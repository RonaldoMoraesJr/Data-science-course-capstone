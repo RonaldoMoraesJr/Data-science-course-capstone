{
 "cells": [
  {
   "cell_type": "markdown",
   "id": "ac452948-0f45-417e-ab99-b61df17f8996",
   "metadata": {},
   "source": [
    "THIS NOTEBOOK WILL BE USED FOR THE CAPSTONE PROJECT"
   ]
  },
  {
   "cell_type": "code",
   "execution_count": 2,
   "id": "6c29ee7a-bf26-44e7-80b1-d855274b1591",
   "metadata": {},
   "outputs": [],
   "source": [
    "import pandas as pd\n",
    "import numpy as np"
   ]
  },
  {
   "cell_type": "code",
   "execution_count": 3,
   "id": "9c8abacf-cd9f-44b6-bd04-75a1e671544b",
   "metadata": {},
   "outputs": [
    {
     "name": "stdout",
     "output_type": "stream",
     "text": [
      "Hello Capstone Project Course!\n"
     ]
    }
   ],
   "source": [
    "print('Hello Capstone Project Course!')"
   ]
  },
  {
   "cell_type": "code",
   "execution_count": null,
   "id": "c99f6788-ccde-4301-b13c-b45efc806f48",
   "metadata": {},
   "outputs": [],
   "source": []
  }
 ],
 "metadata": {
  "kernelspec": {
   "display_name": "Python",
   "language": "python",
   "name": "conda-env-python-py"
  },
  "language_info": {
   "codemirror_mode": {
    "name": "ipython",
    "version": 3
   },
   "file_extension": ".py",
   "mimetype": "text/x-python",
   "name": "python",
   "nbconvert_exporter": "python",
   "pygments_lexer": "ipython3",
   "version": "3.6.13"
  }
 },
 "nbformat": 4,
 "nbformat_minor": 5
}
